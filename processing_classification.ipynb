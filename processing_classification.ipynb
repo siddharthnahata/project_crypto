{
 "cells": [
  {
   "cell_type": "markdown",
   "id": "ffb477ee",
   "metadata": {},
   "source": [
    "## **Data Processing**"
   ]
  },
  {
   "cell_type": "markdown",
   "id": "d6804be5",
   "metadata": {},
   "source": [
    "**What is data Processing?**"
   ]
  },
  {
   "cell_type": "markdown",
   "id": "dab0d51b",
   "metadata": {},
   "source": [
    "Data processing is the process where make data structured in a which can be feeded to model to predict the target."
   ]
  },
  {
   "cell_type": "markdown",
   "id": "1c107da4",
   "metadata": {},
   "source": [
    "**Steps**"
   ]
  },
  {
   "cell_type": "markdown",
   "id": "ee31b46c",
   "metadata": {},
   "source": [
    "* We wil look for the feature and display the features.\n",
    "* We will scale the data using sklearn.preprocessing.StandardScaler.\n",
    "* We will not create Pipeline Classes as the data does not have to much feature\n",
    "* Then we will go to model building."
   ]
  },
  {
   "cell_type": "markdown",
   "id": "460534dc",
   "metadata": {},
   "source": [
    "**Importing all the basic library**"
   ]
  },
  {
   "cell_type": "code",
   "execution_count": 1,
   "id": "1eff7bd8",
   "metadata": {},
   "outputs": [],
   "source": [
    "# all the basic libraries\n",
    "import pandas as pd\n",
    "import numpy as np\n",
    "import matplotlib.pyplot as plt\n",
    "import seaborn as sns\n",
    "import plotly.express as px\n",
    "\n",
    "# these are all the mertics to evaluate the model\n",
    "from sklearn.metrics import accuracy_score, classification_report, ConfusionMatrixDisplay, confusion_matrix\n",
    "\n",
    "# all the prepocessing classes and functions\n",
    "from sklearn.preprocessing import StandardScaler\n",
    "from sklearn.compose import ColumnTransformer\n",
    "from sklearn.model_selection import train_test_split\n",
    "from sklearn.preprocessing import LabelEncoder\n",
    "\n",
    "# all the models \n",
    "from xgboost import XGBClassifier\n",
    "from catboost import CatBoostClassifier\n",
    "from sklearn.linear_model import LogisticRegression\n",
    "from sklearn.tree import DecisionTreeClassifier\n",
    "from sklearn.naive_bayes import GaussianNB\n",
    "from sklearn.svm import SVC\n",
    "from sklearn.ensemble import RandomForestClassifier, AdaBoostClassifier\n",
    "\n",
    "import warnings\n",
    "warnings.filterwarnings('ignore')"
   ]
  },
  {
   "cell_type": "markdown",
   "id": "785c9d59",
   "metadata": {},
   "source": [
    "**Loading the datasets<br> We will use only 16-03-2022 Data to make the model**"
   ]
  },
  {
   "cell_type": "code",
   "execution_count": 2,
   "id": "71b98633",
   "metadata": {},
   "outputs": [],
   "source": [
    "df = pd.read_csv('data/clean_data_20220316.csv')"
   ]
  },
  {
   "cell_type": "code",
   "execution_count": 3,
   "id": "c41f2feb",
   "metadata": {},
   "outputs": [
    {
     "data": {
      "text/html": [
       "<div>\n",
       "<style scoped>\n",
       "    .dataframe tbody tr th:only-of-type {\n",
       "        vertical-align: middle;\n",
       "    }\n",
       "\n",
       "    .dataframe tbody tr th {\n",
       "        vertical-align: top;\n",
       "    }\n",
       "\n",
       "    .dataframe thead th {\n",
       "        text-align: right;\n",
       "    }\n",
       "</style>\n",
       "<table border=\"1\" class=\"dataframe\">\n",
       "  <thead>\n",
       "    <tr style=\"text-align: right;\">\n",
       "      <th></th>\n",
       "      <th>Unnamed: 0</th>\n",
       "      <th>coin</th>\n",
       "      <th>symbol</th>\n",
       "      <th>price</th>\n",
       "      <th>1h</th>\n",
       "      <th>24h</th>\n",
       "      <th>7d</th>\n",
       "      <th>24h_volume</th>\n",
       "      <th>mkt_cap</th>\n",
       "      <th>Liquidity_Ratio</th>\n",
       "      <th>volatility</th>\n",
       "    </tr>\n",
       "  </thead>\n",
       "  <tbody>\n",
       "    <tr>\n",
       "      <th>0</th>\n",
       "      <td>0</td>\n",
       "      <td>Bitcoin</td>\n",
       "      <td>BTC</td>\n",
       "      <td>40859.460000</td>\n",
       "      <td>0.022</td>\n",
       "      <td>0.030</td>\n",
       "      <td>0.055</td>\n",
       "      <td>35390763321</td>\n",
       "      <td>770991461396</td>\n",
       "      <td>0.045903</td>\n",
       "      <td>Stable</td>\n",
       "    </tr>\n",
       "    <tr>\n",
       "      <th>1</th>\n",
       "      <td>1</td>\n",
       "      <td>Ethereum</td>\n",
       "      <td>ETH</td>\n",
       "      <td>2744.410000</td>\n",
       "      <td>0.024</td>\n",
       "      <td>0.034</td>\n",
       "      <td>0.065</td>\n",
       "      <td>19748695312</td>\n",
       "      <td>327104429349</td>\n",
       "      <td>0.060374</td>\n",
       "      <td>Stable</td>\n",
       "    </tr>\n",
       "    <tr>\n",
       "      <th>2</th>\n",
       "      <td>2</td>\n",
       "      <td>Tether</td>\n",
       "      <td>USDT</td>\n",
       "      <td>1.000000</td>\n",
       "      <td>-0.001</td>\n",
       "      <td>-0.001</td>\n",
       "      <td>0.000</td>\n",
       "      <td>57934969077</td>\n",
       "      <td>79965155138</td>\n",
       "      <td>0.724503</td>\n",
       "      <td>High</td>\n",
       "    </tr>\n",
       "    <tr>\n",
       "      <th>3</th>\n",
       "      <td>3</td>\n",
       "      <td>BNB</td>\n",
       "      <td>BNB</td>\n",
       "      <td>383.430000</td>\n",
       "      <td>0.018</td>\n",
       "      <td>0.028</td>\n",
       "      <td>0.004</td>\n",
       "      <td>1395853984</td>\n",
       "      <td>64043816800</td>\n",
       "      <td>0.021795</td>\n",
       "      <td>Stable</td>\n",
       "    </tr>\n",
       "    <tr>\n",
       "      <th>4</th>\n",
       "      <td>4</td>\n",
       "      <td>USD Coin</td>\n",
       "      <td>USDC</td>\n",
       "      <td>0.999874</td>\n",
       "      <td>-0.001</td>\n",
       "      <td>0.000</td>\n",
       "      <td>-0.000</td>\n",
       "      <td>3872273611</td>\n",
       "      <td>52222137400</td>\n",
       "      <td>0.074150</td>\n",
       "      <td>Stable</td>\n",
       "    </tr>\n",
       "  </tbody>\n",
       "</table>\n",
       "</div>"
      ],
      "text/plain": [
       "   Unnamed: 0      coin symbol         price     1h    24h     7d  \\\n",
       "0           0   Bitcoin    BTC  40859.460000  0.022  0.030  0.055   \n",
       "1           1  Ethereum    ETH   2744.410000  0.024  0.034  0.065   \n",
       "2           2    Tether   USDT      1.000000 -0.001 -0.001  0.000   \n",
       "3           3       BNB    BNB    383.430000  0.018  0.028  0.004   \n",
       "4           4  USD Coin   USDC      0.999874 -0.001  0.000 -0.000   \n",
       "\n",
       "    24h_volume       mkt_cap  Liquidity_Ratio volatility  \n",
       "0  35390763321  770991461396         0.045903     Stable  \n",
       "1  19748695312  327104429349         0.060374     Stable  \n",
       "2  57934969077   79965155138         0.724503       High  \n",
       "3   1395853984   64043816800         0.021795     Stable  \n",
       "4   3872273611   52222137400         0.074150     Stable  "
      ]
     },
     "execution_count": 3,
     "metadata": {},
     "output_type": "execute_result"
    }
   ],
   "source": [
    "df.head()"
   ]
  },
  {
   "cell_type": "markdown",
   "id": "85d42b05",
   "metadata": {},
   "source": [
    "We can see that we have no usefull columns named = [\"Unnamed: 0\", \"coin\", \"symbol\", \"price\"].<br>\n",
    "* We will drop the string columns cause they do not have relation and help in model building.\n",
    "* Droping price columns because it does not show the coin feature as market_cap shows it better\n"
   ]
  },
  {
   "cell_type": "code",
   "execution_count": 4,
   "id": "5a62f0b2",
   "metadata": {},
   "outputs": [
    {
     "name": "stdout",
     "output_type": "stream",
     "text": [
      "Column Unnamed: 0 is dropped.\n",
      "Column coin is dropped.\n",
      "Column symbol is dropped.\n",
      "Column price is dropped.\n"
     ]
    }
   ],
   "source": [
    "drop_cols = [\"Unnamed: 0\", \"coin\", \"symbol\", \"price\"]\n",
    "for column in drop_cols:\n",
    "    df.drop(column, inplace=True, axis=1)\n",
    "    print(f\"Column {column} is dropped.\")"
   ]
  },
  {
   "cell_type": "code",
   "execution_count": 5,
   "id": "f6a4122f",
   "metadata": {},
   "outputs": [
    {
     "data": {
      "text/html": [
       "<div>\n",
       "<style scoped>\n",
       "    .dataframe tbody tr th:only-of-type {\n",
       "        vertical-align: middle;\n",
       "    }\n",
       "\n",
       "    .dataframe tbody tr th {\n",
       "        vertical-align: top;\n",
       "    }\n",
       "\n",
       "    .dataframe thead th {\n",
       "        text-align: right;\n",
       "    }\n",
       "</style>\n",
       "<table border=\"1\" class=\"dataframe\">\n",
       "  <thead>\n",
       "    <tr style=\"text-align: right;\">\n",
       "      <th></th>\n",
       "      <th>1h</th>\n",
       "      <th>24h</th>\n",
       "      <th>7d</th>\n",
       "      <th>24h_volume</th>\n",
       "      <th>mkt_cap</th>\n",
       "      <th>Liquidity_Ratio</th>\n",
       "      <th>volatility</th>\n",
       "    </tr>\n",
       "  </thead>\n",
       "  <tbody>\n",
       "    <tr>\n",
       "      <th>0</th>\n",
       "      <td>0.022</td>\n",
       "      <td>0.030</td>\n",
       "      <td>0.055</td>\n",
       "      <td>35390763321</td>\n",
       "      <td>770991461396</td>\n",
       "      <td>0.045903</td>\n",
       "      <td>Stable</td>\n",
       "    </tr>\n",
       "    <tr>\n",
       "      <th>1</th>\n",
       "      <td>0.024</td>\n",
       "      <td>0.034</td>\n",
       "      <td>0.065</td>\n",
       "      <td>19748695312</td>\n",
       "      <td>327104429349</td>\n",
       "      <td>0.060374</td>\n",
       "      <td>Stable</td>\n",
       "    </tr>\n",
       "    <tr>\n",
       "      <th>2</th>\n",
       "      <td>-0.001</td>\n",
       "      <td>-0.001</td>\n",
       "      <td>0.000</td>\n",
       "      <td>57934969077</td>\n",
       "      <td>79965155138</td>\n",
       "      <td>0.724503</td>\n",
       "      <td>High</td>\n",
       "    </tr>\n",
       "    <tr>\n",
       "      <th>3</th>\n",
       "      <td>0.018</td>\n",
       "      <td>0.028</td>\n",
       "      <td>0.004</td>\n",
       "      <td>1395853984</td>\n",
       "      <td>64043816800</td>\n",
       "      <td>0.021795</td>\n",
       "      <td>Stable</td>\n",
       "    </tr>\n",
       "    <tr>\n",
       "      <th>4</th>\n",
       "      <td>-0.001</td>\n",
       "      <td>0.000</td>\n",
       "      <td>-0.000</td>\n",
       "      <td>3872273611</td>\n",
       "      <td>52222137400</td>\n",
       "      <td>0.074150</td>\n",
       "      <td>Stable</td>\n",
       "    </tr>\n",
       "  </tbody>\n",
       "</table>\n",
       "</div>"
      ],
      "text/plain": [
       "      1h    24h     7d   24h_volume       mkt_cap  Liquidity_Ratio volatility\n",
       "0  0.022  0.030  0.055  35390763321  770991461396         0.045903     Stable\n",
       "1  0.024  0.034  0.065  19748695312  327104429349         0.060374     Stable\n",
       "2 -0.001 -0.001  0.000  57934969077   79965155138         0.724503       High\n",
       "3  0.018  0.028  0.004   1395853984   64043816800         0.021795     Stable\n",
       "4 -0.001  0.000 -0.000   3872273611   52222137400         0.074150     Stable"
      ]
     },
     "execution_count": 5,
     "metadata": {},
     "output_type": "execute_result"
    }
   ],
   "source": [
    "df.head()"
   ]
  },
  {
   "cell_type": "markdown",
   "id": "e655ae7a",
   "metadata": {},
   "source": [
    "**Handling Duplicates**"
   ]
  },
  {
   "cell_type": "code",
   "execution_count": 6,
   "id": "fdc36c16",
   "metadata": {},
   "outputs": [
    {
     "data": {
      "text/plain": [
       "np.int64(0)"
      ]
     },
     "execution_count": 6,
     "metadata": {},
     "output_type": "execute_result"
    }
   ],
   "source": [
    "df.duplicated().sum()"
   ]
  },
  {
   "cell_type": "markdown",
   "id": "2e9f9149",
   "metadata": {},
   "source": [
    "### Type of Features"
   ]
  },
  {
   "cell_type": "markdown",
   "id": "0b34181f",
   "metadata": {},
   "source": [
    "**Numeric Features**"
   ]
  },
  {
   "cell_type": "code",
   "execution_count": 7,
   "id": "6caf7260",
   "metadata": {},
   "outputs": [
    {
     "name": "stdout",
     "output_type": "stream",
     "text": [
      "Num of Numerical Features : 6 ['1h', '24h', '7d', '24h_volume', 'mkt_cap', 'Liquidity_Ratio']\n"
     ]
    }
   ],
   "source": [
    "num_features = [feature for feature in df.columns if df[feature].dtype != 'O']\n",
    "print('Num of Numerical Features :', len(num_features), num_features)"
   ]
  },
  {
   "cell_type": "markdown",
   "id": "f24ae168",
   "metadata": {},
   "source": [
    "**Categorical Features**"
   ]
  },
  {
   "cell_type": "code",
   "execution_count": 8,
   "id": "0c199bff",
   "metadata": {},
   "outputs": [
    {
     "name": "stdout",
     "output_type": "stream",
     "text": [
      "Num of Categorical Features : 1 ['volatility']\n"
     ]
    }
   ],
   "source": [
    "# the one categorical feature which is displayed in output is not feature it is target for our problem statement\n",
    "cat_features = [feature for feature in df.columns if df[feature].dtype == 'O']\n",
    "print('Num of Categorical Features :', len(cat_features), cat_features)"
   ]
  },
  {
   "cell_type": "markdown",
   "id": "8ba1f4b2",
   "metadata": {},
   "source": [
    "Now we will create X and y in test and train the transform the data"
   ]
  },
  {
   "cell_type": "markdown",
   "id": "a85845a4",
   "metadata": {},
   "source": [
    "### Split into Train and test data\n",
    "\n",
    "- **Do you know why we split the train and test dataset?**\n",
    "> The train test split technique can be used for classification and regression problems to test machine learning algorithms. The procedure takes the given dataset and splits it into two subsets: ```Training data/train set:``` it is used to train the algorithm and fit the machine learning model\n",
    "then we have ```test data/test set``` which is basically a different data for which we know the values but this data was never shown to the model before. Thus if the model after training is performing good on test set as well then we can say that the Machine Learning model is good."
   ]
  },
  {
   "cell_type": "code",
   "execution_count": 9,
   "id": "e6513296",
   "metadata": {},
   "outputs": [],
   "source": [
    "X = df.drop('volatility', axis=1)\n",
    "y = df['volatility']\n",
    "\n",
    "X_train, X_test, y_train, y_test = train_test_split(X, y, test_size=0.2, random_state=42)\n",
    "\n",
    "scale_cols = [\"24h_volume\", \"mkt_cap\"]\n",
    "passthrough_cols = [\"Liquidity_Ratio\", \"1h\", \"24h\", \"7d\"]\n",
    "\n",
    "preprocessor = ColumnTransformer(\n",
    "    transformers=[\n",
    "        (\"num\", StandardScaler(), scale_cols),\n",
    "        (\"passthrough\", \"passthrough\", passthrough_cols)\n",
    "    ]\n",
    ")"
   ]
  },
  {
   "cell_type": "markdown",
   "id": "afcfe5d9",
   "metadata": {},
   "source": [
    "We have seen that 24h_volumn and market_cap have huge values so we will scale them and other columns no need to transform as they are in short range"
   ]
  },
  {
   "cell_type": "code",
   "execution_count": 10,
   "id": "35cd00f7",
   "metadata": {},
   "outputs": [],
   "source": [
    "X_train = preprocessor.fit_transform(X_train)\n",
    "X_test = preprocessor.transform(X_test)"
   ]
  },
  {
   "cell_type": "markdown",
   "id": "f0522733",
   "metadata": {},
   "source": [
    "We have tranformed features"
   ]
  },
  {
   "cell_type": "markdown",
   "id": "48ce19d4",
   "metadata": {},
   "source": [
    "now we will transform y using LabelEncoder"
   ]
  },
  {
   "cell_type": "code",
   "execution_count": 11,
   "id": "fc980ab3",
   "metadata": {},
   "outputs": [],
   "source": [
    "encoder = LabelEncoder()\n",
    "\n",
    "y_train = encoder.fit_transform(y_train)\n",
    "y_test = encoder.transform(y_test)"
   ]
  },
  {
   "cell_type": "markdown",
   "id": "507732c6",
   "metadata": {},
   "source": [
    "### **Outlier Treatment**\n",
    "* We will not do outlier treatment as the model is predicting the coin stablity which depends on the extreme values. So there is no point to treat outlier in our case as it will directly impact model performance"
   ]
  },
  {
   "cell_type": "markdown",
   "id": "16cde0cb",
   "metadata": {},
   "source": [
    "## **Model Building**"
   ]
  },
  {
   "cell_type": "code",
   "execution_count": 12,
   "id": "4fa2d21f",
   "metadata": {},
   "outputs": [
    {
     "name": "stdout",
     "output_type": "stream",
     "text": [
      "\n",
      "--- Training Logistic Regression ---\n",
      "Accuracy: 0.7800\n",
      "Classification Report:\n",
      "              precision    recall  f1-score   support\n",
      "\n",
      "           0       1.00      0.50      0.67        20\n",
      "           1       0.76      0.97      0.85        35\n",
      "           2       0.76      0.76      0.76        45\n",
      "\n",
      "    accuracy                           0.78       100\n",
      "   macro avg       0.84      0.74      0.76       100\n",
      "weighted avg       0.80      0.78      0.77       100\n",
      "\n",
      "\n",
      "--- Training Decision Tree ---\n",
      "Accuracy: 1.0000\n",
      "Classification Report:\n",
      "              precision    recall  f1-score   support\n",
      "\n",
      "           0       1.00      1.00      1.00        20\n",
      "           1       1.00      1.00      1.00        35\n",
      "           2       1.00      1.00      1.00        45\n",
      "\n",
      "    accuracy                           1.00       100\n",
      "   macro avg       1.00      1.00      1.00       100\n",
      "weighted avg       1.00      1.00      1.00       100\n",
      "\n",
      "\n",
      "--- Training Naive Bayes ---\n",
      "Accuracy: 0.8200\n",
      "Classification Report:\n",
      "              precision    recall  f1-score   support\n",
      "\n",
      "           0       0.62      0.90      0.73        20\n",
      "           1       0.88      1.00      0.93        35\n",
      "           2       0.94      0.64      0.76        45\n",
      "\n",
      "    accuracy                           0.82       100\n",
      "   macro avg       0.81      0.85      0.81       100\n",
      "weighted avg       0.85      0.82      0.82       100\n",
      "\n",
      "\n",
      "--- Training SVM ---\n",
      "Accuracy: 0.5300\n",
      "Classification Report:\n",
      "              precision    recall  f1-score   support\n",
      "\n",
      "           0       1.00      0.35      0.52        20\n",
      "           1       1.00      0.03      0.06        35\n",
      "           2       0.49      1.00      0.66        45\n",
      "\n",
      "    accuracy                           0.53       100\n",
      "   macro avg       0.83      0.46      0.41       100\n",
      "weighted avg       0.77      0.53      0.42       100\n",
      "\n",
      "\n",
      "--- Training XGBoost ---\n"
     ]
    },
    {
     "name": "stdout",
     "output_type": "stream",
     "text": [
      "Accuracy: 1.0000\n",
      "Classification Report:\n",
      "              precision    recall  f1-score   support\n",
      "\n",
      "           0       1.00      1.00      1.00        20\n",
      "           1       1.00      1.00      1.00        35\n",
      "           2       1.00      1.00      1.00        45\n",
      "\n",
      "    accuracy                           1.00       100\n",
      "   macro avg       1.00      1.00      1.00       100\n",
      "weighted avg       1.00      1.00      1.00       100\n",
      "\n",
      "\n",
      "--- Training CatBoost ---\n",
      "Accuracy: 1.0000\n",
      "Classification Report:\n",
      "              precision    recall  f1-score   support\n",
      "\n",
      "           0       1.00      1.00      1.00        20\n",
      "           1       1.00      1.00      1.00        35\n",
      "           2       1.00      1.00      1.00        45\n",
      "\n",
      "    accuracy                           1.00       100\n",
      "   macro avg       1.00      1.00      1.00       100\n",
      "weighted avg       1.00      1.00      1.00       100\n",
      "\n",
      "\n",
      "--- Training RandomForestClassifier ---\n",
      "Accuracy: 1.0000\n",
      "Classification Report:\n",
      "              precision    recall  f1-score   support\n",
      "\n",
      "           0       1.00      1.00      1.00        20\n",
      "           1       1.00      1.00      1.00        35\n",
      "           2       1.00      1.00      1.00        45\n",
      "\n",
      "    accuracy                           1.00       100\n",
      "   macro avg       1.00      1.00      1.00       100\n",
      "weighted avg       1.00      1.00      1.00       100\n",
      "\n",
      "\n",
      "--- Training AdaBoostClassifier ---\n",
      "Accuracy: 1.0000\n",
      "Classification Report:\n",
      "              precision    recall  f1-score   support\n",
      "\n",
      "           0       1.00      1.00      1.00        20\n",
      "           1       1.00      1.00      1.00        35\n",
      "           2       1.00      1.00      1.00        45\n",
      "\n",
      "    accuracy                           1.00       100\n",
      "   macro avg       1.00      1.00      1.00       100\n",
      "weighted avg       1.00      1.00      1.00       100\n",
      "\n",
      "\n",
      "=== Summary of Results ===\n",
      "Logistic Regression: 0.7800\n",
      "Decision Tree: 1.0000\n",
      "Naive Bayes: 0.8200\n",
      "SVM: 0.5300\n",
      "XGBoost: 1.0000\n",
      "CatBoost: 1.0000\n",
      "RandomForestClassifier: 1.0000\n",
      "AdaBoostClassifier: 1.0000\n"
     ]
    }
   ],
   "source": [
    "# we use different model and evaluated them which give best result then we will hypertune them\n",
    "def train_and_evaluate_models(X_train, X_test, y_train, y_test):\n",
    "    models = {\n",
    "        \"Logistic Regression\": LogisticRegression(max_iter=1000),\n",
    "        \"Decision Tree\": DecisionTreeClassifier(),\n",
    "        \"Naive Bayes\": GaussianNB(),\n",
    "        \"SVM\": SVC(),\n",
    "        \"XGBoost\": XGBClassifier(use_label_encoder=False, eval_metric=\"logloss\", verbosity=0),\n",
    "        \"CatBoost\": CatBoostClassifier(verbose=0),\n",
    "        \"RandomForestClassifier\": RandomForestClassifier(),\n",
    "        \"AdaBoostClassifier\": AdaBoostClassifier(),\n",
    "    }\n",
    "\n",
    "    results = {}\n",
    "\n",
    "    for name, model in models.items():\n",
    "        print(f\"\\n--- Training {name} ---\")\n",
    "        model.fit(X_train, y_train)\n",
    "        y_pred = model.predict(X_test)\n",
    "\n",
    "        acc = accuracy_score(y_test, y_pred)\n",
    "        print(f\"Accuracy: {acc:.4f}\")\n",
    "        print(\"Classification Report:\")\n",
    "        print(classification_report(y_test, y_pred))\n",
    "\n",
    "        results[name] = acc\n",
    "\n",
    "    print(\"\\n=== Summary of Results ===\")\n",
    "    for name, acc in results.items():\n",
    "        print(f\"{name}: {acc:.4f}\")\n",
    "train_and_evaluate_models(X_train, X_test, y_train, y_test)"
   ]
  },
  {
   "cell_type": "markdown",
   "id": "cb2dd405",
   "metadata": {},
   "source": [
    "=== Summary of Results ===\n",
    "\n",
    "Logistic Regression: 0.7800\n",
    "\n",
    "Decision Tree: 1.0000\n",
    "\n",
    "Naive Bayes: 0.8200\n",
    "\n",
    "SVM: 0.5300\n",
    "\n",
    "XGBoost: 1.0000\n",
    "\n",
    "CatBoost: 1.0000\n",
    "\n",
    "RandomForestClassifier: 1.0000\n",
    "\n",
    "AdaBoostClassifier: 1.0000<br>\n",
    "\n",
    "From the summary table we can see model like XGBoost, CatBoost and Decission tree, RandomForest, AdaBoost working very well without need of hyperparameter training\n"
   ]
  },
  {
   "cell_type": "markdown",
   "id": "0430eb10",
   "metadata": {},
   "source": [
    "For now we will use XGBoost as of our model without hypertuneing as it works very well and it is best Extreme Gradient Boosting algorithms."
   ]
  },
  {
   "cell_type": "markdown",
   "id": "2ecd6092",
   "metadata": {},
   "source": [
    "### So we got our best parameters. Let's now train the model with those parameters."
   ]
  },
  {
   "cell_type": "code",
   "execution_count": 13,
   "id": "7a0b0cb3",
   "metadata": {},
   "outputs": [],
   "source": [
    "best_model =  XGBClassifier(\n",
    "    use_label_encoder=False,\n",
    "    eval_metric=\"logloss\", \n",
    "    verbosity=0\n",
    ")"
   ]
  },
  {
   "cell_type": "markdown",
   "id": "77bd7f77",
   "metadata": {},
   "source": [
    "**Initialize model with best parameters**"
   ]
  },
  {
   "cell_type": "code",
   "execution_count": 14,
   "id": "a5d64cab",
   "metadata": {},
   "outputs": [
    {
     "name": "stdout",
     "output_type": "stream",
     "text": [
      "XGBoost Classifier\n",
      "Accuracy Score value: 1.0000\n",
      "              precision    recall  f1-score   support\n",
      "\n",
      "           0       1.00      1.00      1.00        20\n",
      "           1       1.00      1.00      1.00        35\n",
      "           2       1.00      1.00      1.00        45\n",
      "\n",
      "    accuracy                           1.00       100\n",
      "   macro avg       1.00      1.00      1.00       100\n",
      "weighted avg       1.00      1.00      1.00       100\n",
      "\n"
     ]
    }
   ],
   "source": [
    "best_model.fit(X_train, y_train)\n",
    "y_pred = best_model.predict(X_test)\n",
    "score = accuracy_score(y_test,y_pred)\n",
    "cr = classification_report(y_test,y_pred)\n",
    "\n",
    "print(\"XGBoost Classifier\")\n",
    "print (\"Accuracy Score value: {:.4f}\".format(score))\n",
    "print (cr)"
   ]
  },
  {
   "cell_type": "markdown",
   "id": "6bff2fc7",
   "metadata": {},
   "source": [
    "## Confusion matrix of the model\n",
    "- **What is confusion matrix ?**\n",
    "> The confusion matrix is a matrix used to determine the performance of the classification models for a given set of test data. It can only be determined if the true values for test data are known. The matrix itself can be easily understood, but the related terminologies may be confusing."
   ]
  },
  {
   "cell_type": "code",
   "execution_count": 15,
   "id": "e4639fda",
   "metadata": {},
   "outputs": [
    {
     "data": {
      "text/plain": [
       "<sklearn.metrics._plot.confusion_matrix.ConfusionMatrixDisplay at 0x25a225db6b0>"
      ]
     },
     "execution_count": 15,
     "metadata": {},
     "output_type": "execute_result"
    },
    {
     "data": {
      "image/png": "[encoded data removed]",
      "text/plain": [
       "<Figure size 640x480 with 2 Axes>"
      ]
     },
     "metadata": {},
     "output_type": "display_data"
    }
   ],
   "source": [
    "ConfusionMatrixDisplay.from_estimator(best_model, X_test, y_test)"
   ]
  },
  {
   "cell_type": "markdown",
   "id": "2048af19",
   "metadata": {},
   "source": [
    "- **Reports**\n",
    "\n",
    "**We can see, that the model performed pretty well.**\n",
    "- we have used XGBoost Classifier as it performed well also other model performed well.\n",
    "- We got a good accuracy while predicting the test dataset."
   ]
  }
 ],
 "metadata": {
  "kernelspec": {
   "display_name": "Python 3",
   "language": "python",
   "name": "python3"
  },
  "language_info": {
   "codemirror_mode": {
    "name": "ipython",
    "version": 3
   },
   "file_extension": ".py",
   "mimetype": "text/x-python",
   "name": "python",
   "nbconvert_exporter": "python",
   "pygments_lexer": "ipython3",
   "version": "3.12.0"
  }
 },
 "nbformat": 4,
 "nbformat_minor": 5
}
